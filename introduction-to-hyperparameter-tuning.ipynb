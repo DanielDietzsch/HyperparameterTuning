{
 "cells": [
  {
   "cell_type": "markdown",
   "metadata": {
    "_cell_guid": "b1076dfc-b9ad-4769-8c92-a6c4dae69d19",
    "_uuid": "8f2839f25d086af736a60e9eeb907d3b93b6e0e5",
    "papermill": {
     "duration": 0.028573,
     "end_time": "2020-09-28T09:16:31.151568",
     "exception": false,
     "start_time": "2020-09-28T09:16:31.122995",
     "status": "completed"
    },
    "tags": []
   },
   "source": [
    "<h1 style=\"text-align:center\">Introduction to Hyperparameter Tuning </h1>"
   ]
  },
  {
   "cell_type": "markdown",
   "metadata": {
    "_cell_guid": "79c7e3d0-c299-4dcb-8224-4455121ee9b0",
    "_uuid": "d629ff2d2480ee46fbb7e2d37f6b5fab8052498a",
    "collapsed": true,
    "papermill": {
     "duration": 0.026854,
     "end_time": "2020-09-28T09:16:31.206090",
     "exception": false,
     "start_time": "2020-09-28T09:16:31.179236",
     "status": "completed"
    },
    "tags": []
   },
   "source": [
    "<div style=\"text-align:center;\"><img src=\"https://images.unsplash.com/photo-1503792453751-9dffb431aa63?ixlib=rb-1.2.1&ixid=eyJhcHBfaWQiOjEyMDd9&auto=format&fit=crop&w=1636&q=80\" /></div>"
   ]
  },
  {
   "cell_type": "markdown",
   "metadata": {
    "papermill": {
     "duration": 0.028146,
     "end_time": "2020-09-28T09:16:31.261305",
     "exception": false,
     "start_time": "2020-09-28T09:16:31.233159",
     "status": "completed"
    },
    "tags": []
   },
   "source": [
    "### About the Notebook:\n",
    "\n",
    "**In this notebook, I want to address different approaches to hyperparameter tuning using the example of the titanic dataset.**"
   ]
  },
  {
   "cell_type": "markdown",
   "metadata": {
    "papermill": {
     "duration": 0.026712,
     "end_time": "2020-09-28T09:16:31.315010",
     "exception": false,
     "start_time": "2020-09-28T09:16:31.288298",
     "status": "completed"
    },
    "tags": []
   },
   "source": [
    "### About the dataset:\n",
    "\n",
    "**Context:** \n",
    "> The competition is simple: use machine learning to create a model that predicts which passengers survived the Titanic shipwreck.\n",
    "\n",
    "**About the Data:**\n",
    "\n",
    "<ul>\n",
    "    <li>survival:\tSurvival</li>\n",
    "        <ul>\n",
    "            <li>0 = No</li>\n",
    "            <li>1 = Yes </li>\n",
    "        </ul>\n",
    "    <li>pclass: A proxy for socio-economic status (SES)</li>\n",
    "        <ul>\n",
    "            <li>1 = 1st (Upper)</li>\n",
    "            <li>2 = 2nd (Middle)</li>\n",
    "            <li>3 = 3rd (Lower)</li>\n",
    "        </ul>\n",
    "    <li>sex: Sex</li>\n",
    "        <ul>\n",
    "            <li>0 = male</li>\n",
    "            <li>1 = female </li>\n",
    "        </ul>\n",
    "    <li>age: Age in years. Age is fractional if less than 1. If the age is estimated, is it in the form of xx.5</li>\n",
    "    <li>sibsp: # of siblings / spouses aboard the Titanic. The dataset defines family relations in this way:</li>\n",
    "        <ul>\n",
    "            <li>Sibling = brother, sister, stepbrother, stepsister</li>\n",
    "            <li>Spouse = husband, wife (mistresses and fiancés were ignored)</li>\n",
    "        </ul>\n",
    "    <li>parch: # of parents / children aboard the Titanic. The dataset defines family relations in this way:</li>\n",
    "        <ul>\n",
    "            <li>Parent = mother, father</li>\n",
    "            <li>Child = daughter, son, stepdaughter, stepson</li>\n",
    "            <li>Some children travelled only with a nanny, therefore parch=0 for them.</li>\n",
    "        </ul>\n",
    "    <li>fare: Passenger fare</li>\n",
    "    <li>embarked: Port of Embarkation</li>\n",
    "        <ul>\n",
    "            <li>C = Cherbourg</li>\n",
    "            <li>Q = Queenstown</li>\n",
    "            <li>S = Southampton</li>\n",
    "        </ul>\n",
    "</ul> \n"
   ]
  },
  {
   "cell_type": "markdown",
   "metadata": {
    "papermill": {
     "duration": 0.026624,
     "end_time": "2020-09-28T09:16:31.368740",
     "exception": false,
     "start_time": "2020-09-28T09:16:31.342116",
     "status": "completed"
    },
    "tags": []
   },
   "source": [
    "# Imports"
   ]
  },
  {
   "cell_type": "code",
   "execution_count": 1,
   "metadata": {
    "execution": {
     "iopub.execute_input": "2020-09-28T09:16:31.435500Z",
     "iopub.status.busy": "2020-09-28T09:16:31.434666Z",
     "iopub.status.idle": "2020-09-28T09:16:32.910678Z",
     "shell.execute_reply": "2020-09-28T09:16:32.909572Z"
    },
    "papermill": {
     "duration": 1.515117,
     "end_time": "2020-09-28T09:16:32.910852",
     "exception": false,
     "start_time": "2020-09-28T09:16:31.395735",
     "status": "completed"
    },
    "tags": []
   },
   "outputs": [],
   "source": [
    "# Data Processing\n",
    "import numpy as np \n",
    "import pandas as pd \n",
    "\n",
    "\n",
    "# Data Visualization\n",
    "import matplotlib.pyplot as plt\n",
    "%matplotlib inline\n",
    "import seaborn as sns\n",
    "\n",
    "\n",
    "# Modeling\n",
    "from sklearn.model_selection import train_test_split\n",
    "\n",
    "from sklearn.neighbors import KNeighborsClassifier\n",
    "from sklearn.ensemble import RandomForestClassifier\n",
    "\n",
    "\n",
    "# Hyperparameter Tuning\n",
    "from sklearn.model_selection import RandomizedSearchCV\n",
    "from sklearn.model_selection import GridSearchCV"
   ]
  },
  {
   "cell_type": "markdown",
   "metadata": {
    "papermill": {
     "duration": 0.027024,
     "end_time": "2020-09-28T09:16:32.965734",
     "exception": false,
     "start_time": "2020-09-28T09:16:32.938710",
     "status": "completed"
    },
    "tags": []
   },
   "source": [
    "# Preparing the data\n",
    "\n",
    "I would like to skip right to the point where we have prepared data without desciption.\n",
    "I am using the same approach as in this [Kernal](https://www.kaggle.com/dietzschdaniel/my-simplistic-titanic-approach-0-79665)."
   ]
  },
  {
   "cell_type": "code",
   "execution_count": 2,
   "metadata": {
    "_kg_hide-input": true,
    "execution": {
     "iopub.execute_input": "2020-09-28T09:16:33.044943Z",
     "iopub.status.busy": "2020-09-28T09:16:33.035767Z",
     "iopub.status.idle": "2020-09-28T09:16:33.138051Z",
     "shell.execute_reply": "2020-09-28T09:16:33.137175Z"
    },
    "papermill": {
     "duration": 0.14493,
     "end_time": "2020-09-28T09:16:33.138185",
     "exception": false,
     "start_time": "2020-09-28T09:16:32.993255",
     "status": "completed"
    },
    "tags": []
   },
   "outputs": [],
   "source": [
    "# Loading the data\n",
    "df_train = pd.read_csv(\"/kaggle/input/titanic/train.csv\")\n",
    "df_test = pd.read_csv(\"/kaggle/input/titanic/test.csv\")\n",
    "\n",
    "\n",
    "# Handling NaN values\n",
    "df_train['Age'] = df_train['Age'].fillna(df_train['Age'].mean())\n",
    "df_test['Age'] = df_test['Age'].fillna(df_test['Age'].mean())\n",
    "\n",
    "df_train['Cabin'] = df_train['Cabin'].fillna(\"Missing\")\n",
    "df_test['Cabin'] = df_test['Cabin'].fillna(\"Missing\")\n",
    "\n",
    "df_train = df_train.dropna()\n",
    "\n",
    "df_test['Fare'] = df_test['Fare'].fillna(df_test['Fare'].mean())\n",
    "\n",
    "# Cleaning the data\n",
    "df_train = df_train.drop(columns=['Name'], axis=1)\n",
    "df_test = df_test.drop(columns=['Name'], axis=1)\n",
    "\n",
    "sex_mapping = {\n",
    "    'male': 0,\n",
    "    'female': 1\n",
    "}\n",
    "df_train.loc[:, \"Sex\"] = df_train['Sex'].map(sex_mapping)\n",
    "df_test.loc[:, \"Sex\"] = df_test['Sex'].map(sex_mapping)\n",
    "\n",
    "df_train = df_train.drop(columns=['Ticket'], axis=1)\n",
    "df_test = df_test.drop(columns=['Ticket'], axis=1)\n",
    "\n",
    "df_train = df_train.drop(columns=['Cabin'], axis=1)\n",
    "df_test = df_test.drop(columns=['Cabin'], axis=1)\n",
    "\n",
    "df_train = pd.get_dummies(df_train, prefix_sep=\"__\",\n",
    "                              columns=['Embarked'])\n",
    "df_test = pd.get_dummies(df_test, prefix_sep=\"__\",\n",
    "                              columns=['Embarked'])"
   ]
  },
  {
   "cell_type": "markdown",
   "metadata": {
    "papermill": {
     "duration": 0.027365,
     "end_time": "2020-09-28T09:16:33.193616",
     "exception": false,
     "start_time": "2020-09-28T09:16:33.166251",
     "status": "completed"
    },
    "tags": []
   },
   "source": [
    "Our data now looks as follows:"
   ]
  },
  {
   "cell_type": "code",
   "execution_count": 3,
   "metadata": {
    "execution": {
     "iopub.execute_input": "2020-09-28T09:16:33.264324Z",
     "iopub.status.busy": "2020-09-28T09:16:33.263466Z",
     "iopub.status.idle": "2020-09-28T09:16:33.277979Z",
     "shell.execute_reply": "2020-09-28T09:16:33.278669Z"
    },
    "papermill": {
     "duration": 0.057621,
     "end_time": "2020-09-28T09:16:33.278875",
     "exception": false,
     "start_time": "2020-09-28T09:16:33.221254",
     "status": "completed"
    },
    "tags": []
   },
   "outputs": [
    {
     "data": {
      "text/html": [
       "<div>\n",
       "<style scoped>\n",
       "    .dataframe tbody tr th:only-of-type {\n",
       "        vertical-align: middle;\n",
       "    }\n",
       "\n",
       "    .dataframe tbody tr th {\n",
       "        vertical-align: top;\n",
       "    }\n",
       "\n",
       "    .dataframe thead th {\n",
       "        text-align: right;\n",
       "    }\n",
       "</style>\n",
       "<table border=\"1\" class=\"dataframe\">\n",
       "  <thead>\n",
       "    <tr style=\"text-align: right;\">\n",
       "      <th></th>\n",
       "      <th>PassengerId</th>\n",
       "      <th>Survived</th>\n",
       "      <th>Pclass</th>\n",
       "      <th>Sex</th>\n",
       "      <th>Age</th>\n",
       "      <th>SibSp</th>\n",
       "      <th>Parch</th>\n",
       "      <th>Fare</th>\n",
       "      <th>Embarked__C</th>\n",
       "      <th>Embarked__Q</th>\n",
       "      <th>Embarked__S</th>\n",
       "    </tr>\n",
       "  </thead>\n",
       "  <tbody>\n",
       "    <tr>\n",
       "      <th>0</th>\n",
       "      <td>1</td>\n",
       "      <td>0</td>\n",
       "      <td>3</td>\n",
       "      <td>0</td>\n",
       "      <td>22.0</td>\n",
       "      <td>1</td>\n",
       "      <td>0</td>\n",
       "      <td>7.2500</td>\n",
       "      <td>0</td>\n",
       "      <td>0</td>\n",
       "      <td>1</td>\n",
       "    </tr>\n",
       "    <tr>\n",
       "      <th>1</th>\n",
       "      <td>2</td>\n",
       "      <td>1</td>\n",
       "      <td>1</td>\n",
       "      <td>1</td>\n",
       "      <td>38.0</td>\n",
       "      <td>1</td>\n",
       "      <td>0</td>\n",
       "      <td>71.2833</td>\n",
       "      <td>1</td>\n",
       "      <td>0</td>\n",
       "      <td>0</td>\n",
       "    </tr>\n",
       "    <tr>\n",
       "      <th>2</th>\n",
       "      <td>3</td>\n",
       "      <td>1</td>\n",
       "      <td>3</td>\n",
       "      <td>1</td>\n",
       "      <td>26.0</td>\n",
       "      <td>0</td>\n",
       "      <td>0</td>\n",
       "      <td>7.9250</td>\n",
       "      <td>0</td>\n",
       "      <td>0</td>\n",
       "      <td>1</td>\n",
       "    </tr>\n",
       "    <tr>\n",
       "      <th>3</th>\n",
       "      <td>4</td>\n",
       "      <td>1</td>\n",
       "      <td>1</td>\n",
       "      <td>1</td>\n",
       "      <td>35.0</td>\n",
       "      <td>1</td>\n",
       "      <td>0</td>\n",
       "      <td>53.1000</td>\n",
       "      <td>0</td>\n",
       "      <td>0</td>\n",
       "      <td>1</td>\n",
       "    </tr>\n",
       "    <tr>\n",
       "      <th>4</th>\n",
       "      <td>5</td>\n",
       "      <td>0</td>\n",
       "      <td>3</td>\n",
       "      <td>0</td>\n",
       "      <td>35.0</td>\n",
       "      <td>0</td>\n",
       "      <td>0</td>\n",
       "      <td>8.0500</td>\n",
       "      <td>0</td>\n",
       "      <td>0</td>\n",
       "      <td>1</td>\n",
       "    </tr>\n",
       "  </tbody>\n",
       "</table>\n",
       "</div>"
      ],
      "text/plain": [
       "   PassengerId  Survived  Pclass  Sex   Age  SibSp  Parch     Fare  \\\n",
       "0            1         0       3    0  22.0      1      0   7.2500   \n",
       "1            2         1       1    1  38.0      1      0  71.2833   \n",
       "2            3         1       3    1  26.0      0      0   7.9250   \n",
       "3            4         1       1    1  35.0      1      0  53.1000   \n",
       "4            5         0       3    0  35.0      0      0   8.0500   \n",
       "\n",
       "   Embarked__C  Embarked__Q  Embarked__S  \n",
       "0            0            0            1  \n",
       "1            1            0            0  \n",
       "2            0            0            1  \n",
       "3            0            0            1  \n",
       "4            0            0            1  "
      ]
     },
     "execution_count": 3,
     "metadata": {},
     "output_type": "execute_result"
    }
   ],
   "source": [
    "df_train.head()"
   ]
  },
  {
   "cell_type": "code",
   "execution_count": 4,
   "metadata": {
    "execution": {
     "iopub.execute_input": "2020-09-28T09:16:33.357143Z",
     "iopub.status.busy": "2020-09-28T09:16:33.355890Z",
     "iopub.status.idle": "2020-09-28T09:16:33.361710Z",
     "shell.execute_reply": "2020-09-28T09:16:33.360853Z"
    },
    "papermill": {
     "duration": 0.051078,
     "end_time": "2020-09-28T09:16:33.361877",
     "exception": false,
     "start_time": "2020-09-28T09:16:33.310799",
     "status": "completed"
    },
    "tags": []
   },
   "outputs": [
    {
     "data": {
      "text/html": [
       "<div>\n",
       "<style scoped>\n",
       "    .dataframe tbody tr th:only-of-type {\n",
       "        vertical-align: middle;\n",
       "    }\n",
       "\n",
       "    .dataframe tbody tr th {\n",
       "        vertical-align: top;\n",
       "    }\n",
       "\n",
       "    .dataframe thead th {\n",
       "        text-align: right;\n",
       "    }\n",
       "</style>\n",
       "<table border=\"1\" class=\"dataframe\">\n",
       "  <thead>\n",
       "    <tr style=\"text-align: right;\">\n",
       "      <th></th>\n",
       "      <th>PassengerId</th>\n",
       "      <th>Pclass</th>\n",
       "      <th>Sex</th>\n",
       "      <th>Age</th>\n",
       "      <th>SibSp</th>\n",
       "      <th>Parch</th>\n",
       "      <th>Fare</th>\n",
       "      <th>Embarked__C</th>\n",
       "      <th>Embarked__Q</th>\n",
       "      <th>Embarked__S</th>\n",
       "    </tr>\n",
       "  </thead>\n",
       "  <tbody>\n",
       "    <tr>\n",
       "      <th>0</th>\n",
       "      <td>892</td>\n",
       "      <td>3</td>\n",
       "      <td>0</td>\n",
       "      <td>34.5</td>\n",
       "      <td>0</td>\n",
       "      <td>0</td>\n",
       "      <td>7.8292</td>\n",
       "      <td>0</td>\n",
       "      <td>1</td>\n",
       "      <td>0</td>\n",
       "    </tr>\n",
       "    <tr>\n",
       "      <th>1</th>\n",
       "      <td>893</td>\n",
       "      <td>3</td>\n",
       "      <td>1</td>\n",
       "      <td>47.0</td>\n",
       "      <td>1</td>\n",
       "      <td>0</td>\n",
       "      <td>7.0000</td>\n",
       "      <td>0</td>\n",
       "      <td>0</td>\n",
       "      <td>1</td>\n",
       "    </tr>\n",
       "    <tr>\n",
       "      <th>2</th>\n",
       "      <td>894</td>\n",
       "      <td>2</td>\n",
       "      <td>0</td>\n",
       "      <td>62.0</td>\n",
       "      <td>0</td>\n",
       "      <td>0</td>\n",
       "      <td>9.6875</td>\n",
       "      <td>0</td>\n",
       "      <td>1</td>\n",
       "      <td>0</td>\n",
       "    </tr>\n",
       "    <tr>\n",
       "      <th>3</th>\n",
       "      <td>895</td>\n",
       "      <td>3</td>\n",
       "      <td>0</td>\n",
       "      <td>27.0</td>\n",
       "      <td>0</td>\n",
       "      <td>0</td>\n",
       "      <td>8.6625</td>\n",
       "      <td>0</td>\n",
       "      <td>0</td>\n",
       "      <td>1</td>\n",
       "    </tr>\n",
       "    <tr>\n",
       "      <th>4</th>\n",
       "      <td>896</td>\n",
       "      <td>3</td>\n",
       "      <td>1</td>\n",
       "      <td>22.0</td>\n",
       "      <td>1</td>\n",
       "      <td>1</td>\n",
       "      <td>12.2875</td>\n",
       "      <td>0</td>\n",
       "      <td>0</td>\n",
       "      <td>1</td>\n",
       "    </tr>\n",
       "  </tbody>\n",
       "</table>\n",
       "</div>"
      ],
      "text/plain": [
       "   PassengerId  Pclass  Sex   Age  SibSp  Parch     Fare  Embarked__C  \\\n",
       "0          892       3    0  34.5      0      0   7.8292            0   \n",
       "1          893       3    1  47.0      1      0   7.0000            0   \n",
       "2          894       2    0  62.0      0      0   9.6875            0   \n",
       "3          895       3    0  27.0      0      0   8.6625            0   \n",
       "4          896       3    1  22.0      1      1  12.2875            0   \n",
       "\n",
       "   Embarked__Q  Embarked__S  \n",
       "0            1            0  \n",
       "1            0            1  \n",
       "2            1            0  \n",
       "3            0            1  \n",
       "4            0            1  "
      ]
     },
     "execution_count": 4,
     "metadata": {},
     "output_type": "execute_result"
    }
   ],
   "source": [
    "df_test.head()"
   ]
  },
  {
   "cell_type": "markdown",
   "metadata": {
    "papermill": {
     "duration": 0.02876,
     "end_time": "2020-09-28T09:16:33.420097",
     "exception": false,
     "start_time": "2020-09-28T09:16:33.391337",
     "status": "completed"
    },
    "tags": []
   },
   "source": [
    "# Hyperparameter Tuning"
   ]
  },
  {
   "cell_type": "markdown",
   "metadata": {
    "papermill": {
     "duration": 0.028799,
     "end_time": "2020-09-28T09:16:33.478036",
     "exception": false,
     "start_time": "2020-09-28T09:16:33.449237",
     "status": "completed"
    },
    "tags": []
   },
   "source": [
    "### Preparing the data for Modeling"
   ]
  },
  {
   "cell_type": "code",
   "execution_count": 5,
   "metadata": {
    "execution": {
     "iopub.execute_input": "2020-09-28T09:16:33.544497Z",
     "iopub.status.busy": "2020-09-28T09:16:33.542971Z",
     "iopub.status.idle": "2020-09-28T09:16:33.548737Z",
     "shell.execute_reply": "2020-09-28T09:16:33.547821Z"
    },
    "papermill": {
     "duration": 0.041572,
     "end_time": "2020-09-28T09:16:33.548898",
     "exception": false,
     "start_time": "2020-09-28T09:16:33.507326",
     "status": "completed"
    },
    "tags": []
   },
   "outputs": [],
   "source": [
    "# Everything except the target variable\n",
    "X = df_train.drop(\"Survived\", axis=1)\n",
    "\n",
    "# Target variable\n",
    "y = df_train['Survived'].values"
   ]
  },
  {
   "cell_type": "code",
   "execution_count": 6,
   "metadata": {
    "execution": {
     "iopub.execute_input": "2020-09-28T09:16:33.616609Z",
     "iopub.status.busy": "2020-09-28T09:16:33.615705Z",
     "iopub.status.idle": "2020-09-28T09:16:33.619181Z",
     "shell.execute_reply": "2020-09-28T09:16:33.618542Z"
    },
    "papermill": {
     "duration": 0.040767,
     "end_time": "2020-09-28T09:16:33.619321",
     "exception": false,
     "start_time": "2020-09-28T09:16:33.578554",
     "status": "completed"
    },
    "tags": []
   },
   "outputs": [],
   "source": [
    "# Random seed for reproducibility\n",
    "np.random.seed(42)\n",
    "\n",
    "# Splitting the data into train & test set\n",
    "X_train, X_test, y_train, y_test = train_test_split(X, y, test_size = 0.2)"
   ]
  },
  {
   "cell_type": "markdown",
   "metadata": {
    "papermill": {
     "duration": 0.029193,
     "end_time": "2020-09-28T09:16:33.678743",
     "exception": false,
     "start_time": "2020-09-28T09:16:33.649550",
     "status": "completed"
    },
    "tags": []
   },
   "source": [
    "Later I will be using `KNeighborsClassifier()` and `RandomForestClassifier()`.\n",
    "Let's check out the scores of `KNeighborsClassifier()` and `RandomForestClassifier()` ***without*** hyperparameter tuning:"
   ]
  },
  {
   "cell_type": "code",
   "execution_count": 7,
   "metadata": {
    "execution": {
     "iopub.execute_input": "2020-09-28T09:16:33.751711Z",
     "iopub.status.busy": "2020-09-28T09:16:33.746499Z",
     "iopub.status.idle": "2020-09-28T09:16:33.766890Z",
     "shell.execute_reply": "2020-09-28T09:16:33.767458Z"
    },
    "papermill": {
     "duration": 0.059163,
     "end_time": "2020-09-28T09:16:33.767645",
     "exception": false,
     "start_time": "2020-09-28T09:16:33.708482",
     "status": "completed"
    },
    "tags": []
   },
   "outputs": [
    {
     "data": {
      "text/plain": [
       "0.6179775280898876"
      ]
     },
     "execution_count": 7,
     "metadata": {},
     "output_type": "execute_result"
    }
   ],
   "source": [
    "# Setting up KNeighborsClassifier()\n",
    "knn = KNeighborsClassifier()\n",
    "knn.fit(X_train, y_train)\n",
    "knn.score(X_test, y_test)"
   ]
  },
  {
   "cell_type": "code",
   "execution_count": 8,
   "metadata": {
    "execution": {
     "iopub.execute_input": "2020-09-28T09:16:33.851924Z",
     "iopub.status.busy": "2020-09-28T09:16:33.850759Z",
     "iopub.status.idle": "2020-09-28T09:16:34.164033Z",
     "shell.execute_reply": "2020-09-28T09:16:34.163244Z"
    },
    "papermill": {
     "duration": 0.358915,
     "end_time": "2020-09-28T09:16:34.164164",
     "exception": false,
     "start_time": "2020-09-28T09:16:33.805249",
     "status": "completed"
    },
    "tags": []
   },
   "outputs": [
    {
     "data": {
      "text/plain": [
       "0.7865168539325843"
      ]
     },
     "execution_count": 8,
     "metadata": {},
     "output_type": "execute_result"
    }
   ],
   "source": [
    "# Setting up RandomForestClassifier()\n",
    "rfc = RandomForestClassifier()\n",
    "rfc.fit(X_train, y_train)\n",
    "rfc.score(X_test, y_test)"
   ]
  },
  {
   "cell_type": "markdown",
   "metadata": {
    "papermill": {
     "duration": 0.030276,
     "end_time": "2020-09-28T09:16:34.225518",
     "exception": false,
     "start_time": "2020-09-28T09:16:34.195242",
     "status": "completed"
    },
    "tags": []
   },
   "source": [
    "## Tuning hyperparameters by hand"
   ]
  },
  {
   "cell_type": "markdown",
   "metadata": {
    "papermill": {
     "duration": 0.030445,
     "end_time": "2020-09-28T09:16:34.287404",
     "exception": false,
     "start_time": "2020-09-28T09:16:34.256959",
     "status": "completed"
    },
    "tags": []
   },
   "source": [
    "One way is of course to tune the hyperparameters by hand.\n",
    "\n",
    "In this example, we tune the hyperparameter `n_neighbors` of the `KNeighborsClassifier()` by looping through different `n_neighbors` values and comparing their score."
   ]
  },
  {
   "cell_type": "code",
   "execution_count": 9,
   "metadata": {
    "execution": {
     "iopub.execute_input": "2020-09-28T09:16:34.360456Z",
     "iopub.status.busy": "2020-09-28T09:16:34.359669Z",
     "iopub.status.idle": "2020-09-28T09:16:37.088396Z",
     "shell.execute_reply": "2020-09-28T09:16:37.087669Z"
    },
    "papermill": {
     "duration": 2.770331,
     "end_time": "2020-09-28T09:16:37.088570",
     "exception": false,
     "start_time": "2020-09-28T09:16:34.318239",
     "status": "completed"
    },
    "tags": []
   },
   "outputs": [],
   "source": [
    "# List of train scores\n",
    "train_scores = []\n",
    "\n",
    "# List of test scores\n",
    "test_scores = []\n",
    "\n",
    "# List of different values for n_neighbors\n",
    "neighbors = range(1, 51) # 1 to 50\n",
    "\n",
    "# Setting up the classifier\n",
    "knn = KNeighborsClassifier()\n",
    "\n",
    "# Loop through different neighbors values\n",
    "for i in neighbors:\n",
    "    knn.set_params(n_neighbors = i) # set neighbors value\n",
    "    \n",
    "    # Fitting the algorithm\n",
    "    knn.fit(X_train, y_train)\n",
    "    \n",
    "    # Append the training scores\n",
    "    train_scores.append(knn.score(X_train, y_train))\n",
    "    \n",
    "    # Append the test scores\n",
    "    test_scores.append(knn.score(X_test, y_test))"
   ]
  },
  {
   "cell_type": "markdown",
   "metadata": {
    "papermill": {
     "duration": 0.030973,
     "end_time": "2020-09-28T09:16:37.150988",
     "exception": false,
     "start_time": "2020-09-28T09:16:37.120015",
     "status": "completed"
    },
    "tags": []
   },
   "source": [
    "Let's plot the train and test scores for the different neighbour values:"
   ]
  },
  {
   "cell_type": "code",
   "execution_count": 10,
   "metadata": {
    "_kg_hide-input": true,
    "execution": {
     "iopub.execute_input": "2020-09-28T09:16:37.224343Z",
     "iopub.status.busy": "2020-09-28T09:16:37.223493Z",
     "iopub.status.idle": "2020-09-28T09:16:37.708506Z",
     "shell.execute_reply": "2020-09-28T09:16:37.709125Z"
    },
    "papermill": {
     "duration": 0.526913,
     "end_time": "2020-09-28T09:16:37.709313",
     "exception": false,
     "start_time": "2020-09-28T09:16:37.182400",
     "status": "completed"
    },
    "tags": []
   },
   "outputs": [
    {
     "name": "stdout",
     "output_type": "stream",
     "text": [
      "Maximum KNN score on the test data: 69.66%\n",
      "Number of Neighbours with Maximum KNN: 29\n"
     ]
    },
    {
     "data": {
      "image/png": "[encoded data removed]",
      "text/plain": [
       "<Figure size 1440x720 with 1 Axes>"
      ]
     },
     "metadata": {
      "needs_background": "light"
     },
     "output_type": "display_data"
    }
   ],
   "source": [
    "# Plotting the Train and Test scores\n",
    "plt.figure(figsize=(20,10))\n",
    "plt.plot(neighbors, train_scores, label=\"Train score\")\n",
    "plt.plot(neighbors, test_scores, label=\"Test score\")\n",
    "plt.xticks(np.arange(1, 51, 1))\n",
    "plt.xlabel(\"Number of neighbors\")\n",
    "plt.ylabel(\"Model score\")\n",
    "plt.legend()\n",
    "\n",
    "\n",
    "print(f\"Maximum KNN score on the test data: {max(test_scores)*100:.2f}%\")\n",
    "print(f\"Number of Neighbours with Maximum KNN: {test_scores.index(max(test_scores)) + 1}\")"
   ]
  },
  {
   "cell_type": "markdown",
   "metadata": {
    "papermill": {
     "duration": 0.033741,
     "end_time": "2020-09-28T09:16:37.777328",
     "exception": false,
     "start_time": "2020-09-28T09:16:37.743587",
     "status": "completed"
    },
    "tags": []
   },
   "source": [
    "The Maximum KNN score on the test data is reached with `n_neighbors = 29` with a score of `69.66%`."
   ]
  },
  {
   "cell_type": "markdown",
   "metadata": {
    "papermill": {
     "duration": 0.032745,
     "end_time": "2020-09-28T09:16:37.844100",
     "exception": false,
     "start_time": "2020-09-28T09:16:37.811355",
     "status": "completed"
    },
    "tags": []
   },
   "source": [
    "## Tuning hyperparameters using ***RandomizedSearchCV()***"
   ]
  },
  {
   "cell_type": "markdown",
   "metadata": {
    "papermill": {
     "duration": 0.032548,
     "end_time": "2020-09-28T09:16:37.910207",
     "exception": false,
     "start_time": "2020-09-28T09:16:37.877659",
     "status": "completed"
    },
    "tags": []
   },
   "source": [
    "`RandomizedSearchCV()` uses a randomized search through hyperparameters.   \n",
    "\n",
    "In this example we use the `RandomForestClassifier()`."
   ]
  },
  {
   "cell_type": "markdown",
   "metadata": {
    "papermill": {
     "duration": 0.032959,
     "end_time": "2020-09-28T09:16:37.976270",
     "exception": false,
     "start_time": "2020-09-28T09:16:37.943311",
     "status": "completed"
    },
    "tags": []
   },
   "source": [
    "First, we have to define a dictionary of hyperparameters we would like to check:"
   ]
  },
  {
   "cell_type": "code",
   "execution_count": 11,
   "metadata": {
    "execution": {
     "iopub.execute_input": "2020-09-28T09:16:38.049482Z",
     "iopub.status.busy": "2020-09-28T09:16:38.048723Z",
     "iopub.status.idle": "2020-09-28T09:16:38.052160Z",
     "shell.execute_reply": "2020-09-28T09:16:38.051574Z"
    },
    "papermill": {
     "duration": 0.043211,
     "end_time": "2020-09-28T09:16:38.052299",
     "exception": false,
     "start_time": "2020-09-28T09:16:38.009088",
     "status": "completed"
    },
    "tags": []
   },
   "outputs": [],
   "source": [
    "# Setting up dictionary with RandomForestClassifier hyperparameters\n",
    "rfc_rs_grid = {\"n_estimators\": np.arange(10, 1000, 50),\n",
    "               \"max_depth\": [None, 3, 5, 10],\n",
    "               \"min_samples_split\": np.arange(2, 20, 2),\n",
    "               \"min_samples_leaf\": np.arange(1, 20, 2)}"
   ]
  },
  {
   "cell_type": "markdown",
   "metadata": {
    "papermill": {
     "duration": 0.032857,
     "end_time": "2020-09-28T09:16:38.118469",
     "exception": false,
     "start_time": "2020-09-28T09:16:38.085612",
     "status": "completed"
    },
    "tags": []
   },
   "source": [
    "Now let's set up the hyperparameter search for the `RandomForestClassifier()` using `RandomizedSearchCV()`."
   ]
  },
  {
   "cell_type": "code",
   "execution_count": 12,
   "metadata": {
    "execution": {
     "iopub.execute_input": "2020-09-28T09:16:38.194411Z",
     "iopub.status.busy": "2020-09-28T09:16:38.192343Z",
     "iopub.status.idle": "2020-09-28T09:18:42.674354Z",
     "shell.execute_reply": "2020-09-28T09:18:42.673552Z"
    },
    "papermill": {
     "duration": 124.522498,
     "end_time": "2020-09-28T09:18:42.674499",
     "exception": false,
     "start_time": "2020-09-28T09:16:38.152001",
     "status": "completed"
    },
    "tags": []
   },
   "outputs": [
    {
     "name": "stdout",
     "output_type": "stream",
     "text": [
      "Fitting 5 folds for each of 20 candidates, totalling 100 fits\n"
     ]
    },
    {
     "name": "stderr",
     "output_type": "stream",
     "text": [
      "[Parallel(n_jobs=1)]: Using backend SequentialBackend with 1 concurrent workers.\n",
      "[Parallel(n_jobs=1)]: Done 100 out of 100 | elapsed:  2.0min finished\n"
     ]
    }
   ],
   "source": [
    "# Import RandomizedSearchCV\n",
    "from sklearn.model_selection import RandomizedSearchCV\n",
    "\n",
    "# Setting random seed\n",
    "np.random.seed(42)\n",
    "\n",
    "# Setting random hyperparameter search for RandomForestClassifier\n",
    "rs_rfc = RandomizedSearchCV(RandomForestClassifier(),\n",
    "                           param_distributions=rfc_rs_grid,\n",
    "                           cv=5,\n",
    "                           n_iter=20,\n",
    "                           verbose=True)\n",
    "\n",
    "# Fitting random hyperparameter search model\n",
    "rs_rfc.fit(X_train, y_train);"
   ]
  },
  {
   "cell_type": "code",
   "execution_count": 13,
   "metadata": {
    "execution": {
     "iopub.execute_input": "2020-09-28T09:18:42.751751Z",
     "iopub.status.busy": "2020-09-28T09:18:42.750933Z",
     "iopub.status.idle": "2020-09-28T09:18:42.756421Z",
     "shell.execute_reply": "2020-09-28T09:18:42.755788Z"
    },
    "papermill": {
     "duration": 0.046779,
     "end_time": "2020-09-28T09:18:42.756567",
     "exception": false,
     "start_time": "2020-09-28T09:18:42.709788",
     "status": "completed"
    },
    "tags": []
   },
   "outputs": [
    {
     "data": {
      "text/plain": [
       "{'n_estimators': 910,\n",
       " 'min_samples_split': 18,\n",
       " 'min_samples_leaf': 1,\n",
       " 'max_depth': 10}"
      ]
     },
     "execution_count": 13,
     "metadata": {},
     "output_type": "execute_result"
    }
   ],
   "source": [
    "# Finding the best parameters\n",
    "rs_rfc.best_params_"
   ]
  },
  {
   "cell_type": "code",
   "execution_count": 14,
   "metadata": {
    "execution": {
     "iopub.execute_input": "2020-09-28T09:18:42.837105Z",
     "iopub.status.busy": "2020-09-28T09:18:42.836308Z",
     "iopub.status.idle": "2020-09-28T09:18:42.952228Z",
     "shell.execute_reply": "2020-09-28T09:18:42.951440Z"
    },
    "papermill": {
     "duration": 0.160513,
     "end_time": "2020-09-28T09:18:42.952364",
     "exception": false,
     "start_time": "2020-09-28T09:18:42.791851",
     "status": "completed"
    },
    "tags": []
   },
   "outputs": [
    {
     "data": {
      "text/plain": [
       "0.797752808988764"
      ]
     },
     "execution_count": 14,
     "metadata": {},
     "output_type": "execute_result"
    }
   ],
   "source": [
    "# Evaluate the model\n",
    "rs_rfc.score(X_test, y_test)"
   ]
  },
  {
   "cell_type": "markdown",
   "metadata": {
    "papermill": {
     "duration": 0.036985,
     "end_time": "2020-09-28T09:18:43.026090",
     "exception": false,
     "start_time": "2020-09-28T09:18:42.989105",
     "status": "completed"
    },
    "tags": []
   },
   "source": [
    "We were able to improve the score!"
   ]
  },
  {
   "cell_type": "markdown",
   "metadata": {
    "papermill": {
     "duration": 0.03758,
     "end_time": "2020-09-28T09:18:43.102896",
     "exception": false,
     "start_time": "2020-09-28T09:18:43.065316",
     "status": "completed"
    },
    "tags": []
   },
   "source": [
    "## Tuning hyperparameters using ***GridSearchCV()***"
   ]
  },
  {
   "cell_type": "markdown",
   "metadata": {
    "papermill": {
     "duration": 0.036755,
     "end_time": "2020-09-28T09:18:43.177591",
     "exception": false,
     "start_time": "2020-09-28T09:18:43.140836",
     "status": "completed"
    },
    "tags": []
   },
   "source": [
    "`GridSearchCV()` uses exhaustive search over specified parameter values for an estimator.  \n",
    "\n",
    "In this example we use the `RandomForestClassifier()`."
   ]
  },
  {
   "cell_type": "markdown",
   "metadata": {
    "papermill": {
     "duration": 0.035687,
     "end_time": "2020-09-28T09:18:43.249390",
     "exception": false,
     "start_time": "2020-09-28T09:18:43.213703",
     "status": "completed"
    },
    "tags": []
   },
   "source": [
    "First, we again have to define the dictionary. This time we only use `n_estimators` and `max_depth` since this approach takes a lot of time to compute."
   ]
  },
  {
   "cell_type": "code",
   "execution_count": 15,
   "metadata": {
    "execution": {
     "iopub.execute_input": "2020-09-28T09:18:43.335255Z",
     "iopub.status.busy": "2020-09-28T09:18:43.334171Z",
     "iopub.status.idle": "2020-09-28T09:18:43.337808Z",
     "shell.execute_reply": "2020-09-28T09:18:43.336909Z"
    },
    "papermill": {
     "duration": 0.047728,
     "end_time": "2020-09-28T09:18:43.338030",
     "exception": false,
     "start_time": "2020-09-28T09:18:43.290302",
     "status": "completed"
    },
    "tags": []
   },
   "outputs": [],
   "source": [
    "# Setting up dictionary with RandomForestClassifier hyperparameters\n",
    "rfc_gs_grid = {\"n_estimators\": np.arange(10, 1010, 100),\n",
    "               \"max_depth\": [None, 5, 10]}"
   ]
  },
  {
   "cell_type": "code",
   "execution_count": 16,
   "metadata": {
    "execution": {
     "iopub.execute_input": "2020-09-28T09:18:43.426227Z",
     "iopub.status.busy": "2020-09-28T09:18:43.425072Z",
     "iopub.status.idle": "2020-09-28T09:21:44.026480Z",
     "shell.execute_reply": "2020-09-28T09:21:44.025609Z"
    },
    "papermill": {
     "duration": 180.647828,
     "end_time": "2020-09-28T09:21:44.026621",
     "exception": false,
     "start_time": "2020-09-28T09:18:43.378793",
     "status": "completed"
    },
    "tags": []
   },
   "outputs": [
    {
     "name": "stdout",
     "output_type": "stream",
     "text": [
      "Fitting 5 folds for each of 30 candidates, totalling 150 fits\n"
     ]
    },
    {
     "name": "stderr",
     "output_type": "stream",
     "text": [
      "[Parallel(n_jobs=1)]: Using backend SequentialBackend with 1 concurrent workers.\n",
      "[Parallel(n_jobs=1)]: Done 150 out of 150 | elapsed:  3.0min finished\n"
     ]
    }
   ],
   "source": [
    "# Import GridSearchCV\n",
    "from sklearn.model_selection import GridSearchCV\n",
    "\n",
    "\n",
    "# Setting grid hyperparameter search for RandomForestClassifier\n",
    "gs_rfc = GridSearchCV(RandomForestClassifier(),\n",
    "                          param_grid=rfc_gs_grid,\n",
    "                          cv=5,\n",
    "                          verbose=True)\n",
    "\n",
    "# Fitting grid hyperparameter search model\n",
    "gs_rfc.fit(X_train, y_train);"
   ]
  },
  {
   "cell_type": "code",
   "execution_count": 17,
   "metadata": {
    "execution": {
     "iopub.execute_input": "2020-09-28T09:21:44.108513Z",
     "iopub.status.busy": "2020-09-28T09:21:44.107571Z",
     "iopub.status.idle": "2020-09-28T09:21:44.112494Z",
     "shell.execute_reply": "2020-09-28T09:21:44.111733Z"
    },
    "papermill": {
     "duration": 0.048226,
     "end_time": "2020-09-28T09:21:44.112618",
     "exception": false,
     "start_time": "2020-09-28T09:21:44.064392",
     "status": "completed"
    },
    "tags": []
   },
   "outputs": [
    {
     "data": {
      "text/plain": [
       "{'max_depth': 10, 'n_estimators': 110}"
      ]
     },
     "execution_count": 17,
     "metadata": {},
     "output_type": "execute_result"
    }
   ],
   "source": [
    "# Finding the best parameters\n",
    "gs_rfc.best_params_"
   ]
  },
  {
   "cell_type": "code",
   "execution_count": 18,
   "metadata": {
    "execution": {
     "iopub.execute_input": "2020-09-28T09:21:44.197766Z",
     "iopub.status.busy": "2020-09-28T09:21:44.197019Z",
     "iopub.status.idle": "2020-09-28T09:21:44.216575Z",
     "shell.execute_reply": "2020-09-28T09:21:44.215809Z"
    },
    "papermill": {
     "duration": 0.06598,
     "end_time": "2020-09-28T09:21:44.216700",
     "exception": false,
     "start_time": "2020-09-28T09:21:44.150720",
     "status": "completed"
    },
    "tags": []
   },
   "outputs": [
    {
     "data": {
      "text/plain": [
       "0.7865168539325843"
      ]
     },
     "execution_count": 18,
     "metadata": {},
     "output_type": "execute_result"
    }
   ],
   "source": [
    "# Evaluate the model\n",
    "gs_rfc.score(X_test, y_test)"
   ]
  },
  {
   "cell_type": "markdown",
   "metadata": {
    "papermill": {
     "duration": 0.039687,
     "end_time": "2020-09-28T09:21:44.296081",
     "exception": false,
     "start_time": "2020-09-28T09:21:44.256394",
     "status": "completed"
    },
    "tags": []
   },
   "source": [
    "In this case we reached the same score as without the hyperparameter tuning. We could try a different dictionary to improve the score. However, due to the long time to compute and since this is just a demonstration, I will leave it like this."
   ]
  },
  {
   "cell_type": "markdown",
   "metadata": {
    "papermill": {
     "duration": 0.041258,
     "end_time": "2020-09-28T09:21:44.376050",
     "exception": false,
     "start_time": "2020-09-28T09:21:44.334792",
     "status": "completed"
    },
    "tags": []
   },
   "source": [
    "**If you liked this notebook or found it helpful in any way, feel free to leave an upvote - That will keep me motivated :)**\n",
    "\n",
    "**If you have any suggestions for improvement, leave a comment :)**"
   ]
  }
 ],
 "metadata": {
  "kernelspec": {
   "display_name": "Python 3",
   "language": "python",
   "name": "python3"
  },
  "language_info": {
   "codemirror_mode": {
    "name": "ipython",
    "version": 3
   },
   "file_extension": ".py",
   "mimetype": "text/x-python",
   "name": "python",
   "nbconvert_exporter": "python",
   "pygments_lexer": "ipython3",
   "version": "3.7.6"
  },
  "papermill": {
   "duration": 318.682189,
   "end_time": "2020-09-28T09:21:44.528640",
   "environment_variables": {},
   "exception": null,
   "input_path": "__notebook__.ipynb",
   "output_path": "__notebook__.ipynb",
   "parameters": {},
   "start_time": "2020-09-28T09:16:25.846451",
   "version": "2.1.0"
  }
 },
 "nbformat": 4,
 "nbformat_minor": 4
}
